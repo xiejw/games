{
 "cells": [
  {
   "cell_type": "code",
   "execution_count": 1,
   "metadata": {},
   "outputs": [],
   "source": [
    "import matplotlib.pyplot as plt\n",
    "import numpy as np\n",
    "from matplotlib import colors"
   ]
  },
  {
   "cell_type": "code",
   "execution_count": 26,
   "metadata": {},
   "outputs": [
    {
     "name": "stdout",
     "output_type": "stream",
     "text": [
      "10000\n"
     ]
    }
   ],
   "source": [
    "# mean 3 std 8\n",
    "with open('data.txt') as f:\n",
    "  data = [line for line in f.readlines()]    \n",
    "print len(data)"
   ]
  },
  {
   "cell_type": "code",
   "execution_count": 28,
   "metadata": {},
   "outputs": [
    {
     "name": "stdout",
     "output_type": "stream",
     "text": [
      "-2.43654952223365\n",
      "-1.18245302561197\n",
      "-2.43654952223365\n",
      "-1.18245302561197\n"
     ]
    }
   ],
   "source": [
    "raw_data = [line.strip() for line in data]\n",
    "print raw_data[0]\n",
    "print raw_data[-1]\n",
    "\n",
    "x = np.array([float(line) for line in raw_data])\n",
    "print x[0]\n",
    "print x[-1]"
   ]
  },
  {
   "cell_type": "code",
   "execution_count": 29,
   "metadata": {},
   "outputs": [
    {
     "name": "stdout",
     "output_type": "stream",
     "text": [
      "2.8876200107051053\n",
      "8.00422688643744\n"
     ]
    },
    {
     "data": {
      "text/plain": [
       "(array([  1.,   0.,   1.,   1.,   2.,   4.,   9.,   8.,  34.,  37.,  69.,\n",
       "        114., 146., 278., 352., 460., 592., 668., 774., 816., 885., 888.,\n",
       "        817., 705., 585., 520., 414., 311., 196., 111.,  90.,  46.,  32.,\n",
       "         10.,  11.,   7.,   3.,   1.,   1.,   1.]),\n",
       " array([-33.50179396, -31.74350177, -29.98520958, -28.22691739,\n",
       "        -26.4686252 , -24.71033301, -22.95204082, -21.19374863,\n",
       "        -19.43545644, -17.67716425, -15.91887206, -14.16057987,\n",
       "        -12.40228768, -10.64399549,  -8.8857033 ,  -7.12741111,\n",
       "         -5.36911892,  -3.61082673,  -1.85253454,  -0.09424235,\n",
       "          1.66404984,   3.42234203,   5.18063422,   6.93892641,\n",
       "          8.6972186 ,  10.45551079,  12.21380298,  13.97209517,\n",
       "         15.73038736,  17.48867955,  19.24697174,  21.00526393,\n",
       "         22.76355612,  24.52184831,  26.2801405 ,  28.03843269,\n",
       "         29.79672488,  31.55501707,  33.31330926,  35.07160145,\n",
       "         36.82989364]),\n",
       " <a list of 40 Patch objects>)"
      ]
     },
     "execution_count": 29,
     "metadata": {},
     "output_type": "execute_result"
    },
    {
     "data": {
      "image/png": "[encoded data removed]",
      "text/plain": [
       "<Figure size 432x288 with 1 Axes>"
      ]
     },
     "metadata": {},
     "output_type": "display_data"
    }
   ],
   "source": [
    "n_bins = 40\n",
    "\n",
    "print np.mean(x)\n",
    "print np.std(x)\n",
    "\n",
    "plt.figure()\n",
    "plt.hist(x, bins=n_bins)"
   ]
  }
 ],
 "metadata": {
  "kernelspec": {
   "display_name": "Python 2",
   "language": "python",
   "name": "python2"
  },
  "language_info": {
   "codemirror_mode": {
    "name": "ipython",
    "version": 2
   },
   "file_extension": ".py",
   "mimetype": "text/x-python",
   "name": "python",
   "nbconvert_exporter": "python",
   "pygments_lexer": "ipython2",
   "version": "2.7.9"
  }
 },
 "nbformat": 4,
 "nbformat_minor": 2
}
